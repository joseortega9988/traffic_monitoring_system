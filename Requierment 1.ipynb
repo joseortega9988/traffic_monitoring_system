{
 "cells": [
  {
   "cell_type": "markdown",
   "metadata": {},
   "source": [
    "# Exercise 1.1\n"
   ]
  },
  {
   "cell_type": "markdown",
   "metadata": {},
   "source": [
    "Installing libraries: "
   ]
  },
  {
   "cell_type": "code",
   "execution_count": 27,
   "metadata": {},
   "outputs": [
    {
     "name": "stdout",
     "output_type": "stream",
     "text": [
      "Requirement already satisfied: opencv-python in c:\\users\\j\\appdata\\local\\programs\\python\\python39\\lib\\site-packages (4.9.0.80)\n",
      "Requirement already satisfied: numpy in c:\\users\\j\\appdata\\local\\programs\\python\\python39\\lib\\site-packages (1.26.3)\n",
      "Note: you may need to restart the kernel to use updated packages.\n"
     ]
    },
    {
     "name": "stderr",
     "output_type": "stream",
     "text": [
      "ERROR: Could not find a version that satisfies the requirement sys (from versions: none)\n",
      "ERROR: No matching distribution found for sys\n",
      "\n",
      "[notice] A new release of pip is available: 23.3.2 -> 24.0\n",
      "[notice] To update, run: python.exe -m pip install --upgrade pip\n"
     ]
    }
   ],
   "source": [
    "%pip install opencv-python numpy sys"
   ]
  },
  {
   "cell_type": "markdown",
   "metadata": {},
   "source": [
    "Import libraries :"
   ]
  },
  {
   "cell_type": "code",
   "execution_count": 28,
   "metadata": {},
   "outputs": [],
   "source": [
    "import numpy as np\n",
    "import sys\n",
    "import cv2"
   ]
  },
  {
   "cell_type": "code",
   "execution_count": 29,
   "metadata": {},
   "outputs": [],
   "source": [
    "# The higher the value, the bigger a moving object should be to be detected\n",
    "minimun_area_contour = 4000"
   ]
  },
  {
   "cell_type": "code",
   "execution_count": 30,
   "metadata": {},
   "outputs": [],
   "source": [
    "# Open the video file named \"Traffic_Laramie_1.mp4\":\n",
    "video_capture = cv2.VideoCapture(\"Traffic_Laramie_1.mp4\")\n",
    "\n",
    "# Ensure the video file is accessible:\n",
    "assert video_capture.isOpened(), \"Video file could not be opened\"\n",
    "\n",
    "# Set up a background remover using a Gaussian mixture model:\n",
    "background_remover = cv2.createBackgroundSubtractorKNN(detectShadows=False, history=10000, dist2Threshold=900)\n",
    "\n",
    "# Create a window to display the live video:\n",
    "cv2.namedWindow(\"Live Feed\")\n",
    "\n",
    "# Process each frame of the video:\n",
    "while True:\n",
    "    # Capture the next frame:\n",
    "    ret, frame = video_capture.read()\n",
    "\n",
    "    # Exit the loop if there are no more frames:\n",
    "    if not ret:\n",
    "        break\n",
    "\n",
    "    # Smooth out the frame to reduce noise:\n",
    "    smoothed_frame = cv2.GaussianBlur(frame, (5, 5), 0)\n",
    "\n",
    "    # Separate the foreground from the background:\n",
    "    foreground_mask = background_remover.apply(smoothed_frame)\n",
    "\n",
    "    # Convert the foreground mask to black and white, minimizing shadows:\n",
    "    _, foreground_mask = cv2.threshold(foreground_mask, 100, 255, cv2.THRESH_BINARY)\n",
    "\n",
    "    # Enhance the mask's clarity using image processing techniques:\n",
    "    kernel = cv2.getStructuringElement(cv2.MORPH_ELLIPSE, (5, 5))\n",
    "    foreground_mask = cv2.morphologyEx(foreground_mask, cv2.MORPH_CLOSE, kernel, iterations=2)\n",
    "\n",
    "    # Find the outlines of detected objects in the mask:\n",
    "    object_contours, _ = cv2.findContours(foreground_mask, cv2.RETR_EXTERNAL, cv2.CHAIN_APPROX_SIMPLE)\n",
    "\n",
    "    # Filter out contours that are likely too small to be objects:\n",
    "    object_contours = [contour for contour in object_contours if cv2.contourArea(contour) > minimun_area_contour]\n",
    "\n",
    "    # Focus on objects in the lower half of the frame:\n",
    "    object_contours = [contour for contour in object_contours if cv2.boundingRect(contour)[1] > frame.shape[0] / 2]\n",
    "\n",
    "    # Simplify the contours without holes:\n",
    "    object_contours = [cv2.convexHull(contour) for contour in object_contours]\n",
    "\n",
    "    # Draw contours for visual inspection:\n",
    "    cv2.drawContours(frame, object_contours, -1, (0, 255, 0), 2)\n",
    "\n",
    "    # Prepare containers to store bounding boxes around detected objects:\n",
    "    bounding_boxes = []\n",
    "\n",
    "    # Determine the rectangular coordinates of the contours:\n",
    "    for contour in object_contours:\n",
    "        (x, y, width, height) = cv2.boundingRect(contour)\n",
    "        bounding_boxes.append([x, y, x + width, y + height])\n",
    "\n",
    "    # Draw visible rectangles around the detected objects:\n",
    "    for [x, y, x2, y2] in bounding_boxes:\n",
    "        cv2.rectangle(frame, (x, y), (x2, y2), (0, 255, 0), 1)\n",
    "\n",
    "    # Show the processed frame in the \"Live Feed\" window:\n",
    "    cv2.imshow(\"Live Feed\", frame)\n",
    "\n",
    "    # Allow the user to exit the loop by pressing \"q\":\n",
    "    if cv2.waitKey(1) & 0xFF == ord('q'):\n",
    "        cv2.destroyWindow(\"Live Feed\")\n",
    "        cv2.waitKey(1)\n",
    "        break\n"
   ]
  }
 ],
 "metadata": {
  "kernelspec": {
   "display_name": "base",
   "language": "python",
   "name": "python3"
  },
  "language_info": {
   "codemirror_mode": {
    "name": "ipython",
    "version": 3
   },
   "file_extension": ".py",
   "mimetype": "text/x-python",
   "name": "python",
   "nbconvert_exporter": "python",
   "pygments_lexer": "ipython3",
   "version": "3.9.11"
  },
  "orig_nbformat": 4
 },
 "nbformat": 4,
 "nbformat_minor": 2
}
